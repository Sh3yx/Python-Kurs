{
 "cells": [
  {
   "cell_type": "code",
   "execution_count": 2,
   "id": "f33e0f8c-2402-41ac-949d-d8cca57e5f18",
   "metadata": {},
   "outputs": [
    {
     "data": {
      "text/plain": [
       "'hello world'"
      ]
     },
     "execution_count": 2,
     "metadata": {},
     "output_type": "execute_result"
    }
   ],
   "source": [
    "\"hello world\""
   ]
  },
  {
   "cell_type": "code",
   "execution_count": 4,
   "id": "a1f2d37a-396d-4762-a336-e305ba3bd9fa",
   "metadata": {},
   "outputs": [
    {
     "data": {
      "text/plain": [
       "'hello'"
      ]
     },
     "execution_count": 4,
     "metadata": {},
     "output_type": "execute_result"
    }
   ],
   "source": [
    "'hello'"
   ]
  },
  {
   "cell_type": "code",
   "execution_count": 6,
   "id": "315062d1-0295-48ed-8930-d0a87299157b",
   "metadata": {},
   "outputs": [
    {
     "ename": "SyntaxError",
     "evalue": "invalid syntax (1106059389.py, line 1)",
     "output_type": "error",
     "traceback": [
      "\u001b[1;36m  Cell \u001b[1;32mIn[6], line 1\u001b[1;36m\u001b[0m\n\u001b[1;33m    'I'm a pilot\u001b[0m\n\u001b[1;37m       ^\u001b[0m\n\u001b[1;31mSyntaxError\u001b[0m\u001b[1;31m:\u001b[0m invalid syntax\n"
     ]
    }
   ],
   "source": [
    "'I'm a pilot"
   ]
  },
  {
   "cell_type": "code",
   "execution_count": 8,
   "id": "87ddb7ff-f51d-4d87-ba35-9f68fa3fca5c",
   "metadata": {},
   "outputs": [
    {
     "data": {
      "text/plain": [
       "\"I'm a pilot\""
      ]
     },
     "execution_count": 8,
     "metadata": {},
     "output_type": "execute_result"
    }
   ],
   "source": [
    "\"I'm a pilot\""
   ]
  },
  {
   "cell_type": "code",
   "execution_count": 10,
   "id": "e9d03cc1-5166-4f58-986b-7306efe851d6",
   "metadata": {},
   "outputs": [],
   "source": [
    "x = \"hello world\""
   ]
  },
  {
   "cell_type": "code",
   "execution_count": 12,
   "id": "dd8a0571-638b-4733-b29e-5aff5aafed30",
   "metadata": {},
   "outputs": [
    {
     "data": {
      "text/plain": [
       "'hello world'"
      ]
     },
     "execution_count": 12,
     "metadata": {},
     "output_type": "execute_result"
    }
   ],
   "source": [
    "x"
   ]
  },
  {
   "cell_type": "code",
   "execution_count": 14,
   "id": "a9fe7477-f404-4ac3-84c9-9e8236cea5cf",
   "metadata": {},
   "outputs": [],
   "source": [
    "x = \"hello\""
   ]
  },
  {
   "cell_type": "code",
   "execution_count": 16,
   "id": "1a031ef8-41e9-4dbe-a21d-f785a8e326bd",
   "metadata": {},
   "outputs": [
    {
     "data": {
      "text/plain": [
       "'hello'"
      ]
     },
     "execution_count": 16,
     "metadata": {},
     "output_type": "execute_result"
    }
   ],
   "source": [
    "x"
   ]
  },
  {
   "cell_type": "code",
   "execution_count": 18,
   "id": "96aeaacc-02ee-44da-98b7-ce75f5c07376",
   "metadata": {},
   "outputs": [],
   "source": [
    "x = 3"
   ]
  },
  {
   "cell_type": "code",
   "execution_count": 26,
   "id": "455e0afe-2a4d-48b0-866c-c6cb6f977a99",
   "metadata": {},
   "outputs": [
    {
     "data": {
      "text/plain": [
       "3"
      ]
     },
     "execution_count": 26,
     "metadata": {},
     "output_type": "execute_result"
    }
   ],
   "source": [
    "x"
   ]
  },
  {
   "cell_type": "code",
   "execution_count": 30,
   "id": "358367c9-6a60-4490-ac16-2c3616580ae1",
   "metadata": {},
   "outputs": [],
   "source": [
    "x = \"Hello World\""
   ]
  },
  {
   "cell_type": "code",
   "execution_count": 22,
   "id": "0ad1ce0c-7f05-490a-ba99-8bdc144c037b",
   "metadata": {},
   "outputs": [
    {
     "data": {
      "text/plain": [
       "int"
      ]
     },
     "execution_count": 22,
     "metadata": {},
     "output_type": "execute_result"
    }
   ],
   "source": [
    "type(x)"
   ]
  },
  {
   "cell_type": "code",
   "execution_count": 32,
   "id": "a7f3adc7-be73-4a02-bb1c-d8fe5fd2901f",
   "metadata": {},
   "outputs": [
    {
     "data": {
      "text/plain": [
       "11"
      ]
     },
     "execution_count": 32,
     "metadata": {},
     "output_type": "execute_result"
    }
   ],
   "source": [
    "len(x)"
   ]
  },
  {
   "cell_type": "markdown",
   "id": "242adc78-b152-4f93-a560-85ff811ba8ee",
   "metadata": {},
   "source": [
    "Length = Uzunluq"
   ]
  },
  {
   "cell_type": "code",
   "execution_count": 35,
   "id": "ca9a5e8d-1491-43a1-9f26-4da1ae76bd13",
   "metadata": {},
   "outputs": [
    {
     "name": "stdout",
     "output_type": "stream",
     "text": [
      "Hello World\n"
     ]
    }
   ],
   "source": [
    "print(x)"
   ]
  },
  {
   "cell_type": "code",
   "execution_count": 37,
   "id": "e25cf328-5039-49b4-a116-0e9f1b186002",
   "metadata": {},
   "outputs": [
    {
     "name": "stdout",
     "output_type": "stream",
     "text": [
      "Hello World\n"
     ]
    }
   ],
   "source": [
    "print(x)"
   ]
  },
  {
   "cell_type": "markdown",
   "id": "18d1c26d-45c6-4391-9fd4-e5437c2d022c",
   "metadata": {},
   "source": [
    "escape character "
   ]
  },
  {
   "cell_type": "code",
   "execution_count": 42,
   "id": "feee7525-4277-4a26-ab6e-eeee5bf07bcb",
   "metadata": {},
   "outputs": [
    {
     "ename": "SyntaxError",
     "evalue": "unterminated string literal (detected at line 1) (3090387590.py, line 1)",
     "output_type": "error",
     "traceback": [
      "\u001b[1;36m  Cell \u001b[1;32mIn[42], line 1\u001b[1;36m\u001b[0m\n\u001b[1;33m    print(\"Hello\u001b[0m\n\u001b[1;37m          ^\u001b[0m\n\u001b[1;31mSyntaxError\u001b[0m\u001b[1;31m:\u001b[0m unterminated string literal (detected at line 1)\n"
     ]
    }
   ],
   "source": [
    "print(\"Hello \n",
    "Python\")"
   ]
  },
  {
   "cell_type": "code",
   "execution_count": 46,
   "id": "cba695d9-17cc-4804-ad4a-c0a03504045b",
   "metadata": {},
   "outputs": [
    {
     "name": "stdout",
     "output_type": "stream",
     "text": [
      "Hello \n",
      " Python\n"
     ]
    }
   ],
   "source": [
    "print(\"Hello \\n Python\")"
   ]
  },
  {
   "cell_type": "code",
   "execution_count": 48,
   "id": "b367185e-7c6d-42c2-a3d7-37f28b0b7573",
   "metadata": {},
   "outputs": [
    {
     "name": "stdout",
     "output_type": "stream",
     "text": [
      "Hello \t Python\n"
     ]
    }
   ],
   "source": [
    "print(\"Hello \\t Python\")"
   ]
  },
  {
   "cell_type": "code",
   "execution_count": null,
   "id": "32913915-6558-4182-966b-8a97f801ca02",
   "metadata": {},
   "outputs": [],
   "source": []
  }
 ],
 "metadata": {
  "kernelspec": {
   "display_name": "Python 3 (ipykernel)",
   "language": "python",
   "name": "python3"
  },
  "language_info": {
   "codemirror_mode": {
    "name": "ipython",
    "version": 3
   },
   "file_extension": ".py",
   "mimetype": "text/x-python",
   "name": "python",
   "nbconvert_exporter": "python",
   "pygments_lexer": "ipython3",
   "version": "3.12.7"
  }
 },
 "nbformat": 4,
 "nbformat_minor": 5
}
