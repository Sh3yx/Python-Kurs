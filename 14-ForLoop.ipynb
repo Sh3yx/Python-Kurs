{
 "cells": [
  {
   "cell_type": "code",
   "execution_count": 3,
   "id": "abda900b-d219-4282-bc42-bd9b4bbbf515",
   "metadata": {},
   "outputs": [],
   "source": [
    "my_list = [1,2,3,4,5]"
   ]
  },
  {
   "cell_type": "code",
   "execution_count": 5,
   "id": "f65e881e-4306-4a5c-a08f-6f9dd51a105a",
   "metadata": {},
   "outputs": [
    {
     "name": "stdout",
     "output_type": "stream",
     "text": [
      "Elturan\n",
      "Elturan\n",
      "Elturan\n",
      "Elturan\n",
      "Elturan\n"
     ]
    }
   ],
   "source": [
    "for  number in my_list:\n",
    "    print(\"Elturan\")"
   ]
  },
  {
   "cell_type": "code",
   "execution_count": 7,
   "id": "4368dda7-80df-4dba-95c4-20cbb919893f",
   "metadata": {},
   "outputs": [
    {
     "name": "stdout",
     "output_type": "stream",
     "text": [
      "1\n",
      "2\n",
      "3\n",
      "4\n",
      "5\n"
     ]
    }
   ],
   "source": [
    "for  number in my_list:\n",
    "    print(number)"
   ]
  },
  {
   "cell_type": "code",
   "execution_count": 9,
   "id": "6807e38d-e58e-47c4-8e04-9ea847e2feed",
   "metadata": {},
   "outputs": [
    {
     "name": "stdout",
     "output_type": "stream",
     "text": [
      "5\n",
      "10\n",
      "15\n",
      "20\n",
      "25\n"
     ]
    }
   ],
   "source": [
    "for item in my_list:\n",
    "    new_number = item * 5\n",
    "    print(new_number)"
   ]
  },
  {
   "cell_type": "code",
   "execution_count": 15,
   "id": "2bb2ed61-6e37-4e8e-82ec-615687479522",
   "metadata": {},
   "outputs": [
    {
     "name": "stdout",
     "output_type": "stream",
     "text": [
      "2\n",
      "4\n"
     ]
    }
   ],
   "source": [
    "for number in my_list:\n",
    "    if number % 2 == 0:\n",
    "        print(number)"
   ]
  },
  {
   "cell_type": "code",
   "execution_count": 17,
   "id": "ca4b179a-9f20-4954-bf71-917a985ae8b9",
   "metadata": {},
   "outputs": [
    {
     "name": "stdout",
     "output_type": "stream",
     "text": [
      "true\n"
     ]
    }
   ],
   "source": [
    "if 2 in my_list:\n",
    "    print(\"true\")"
   ]
  },
  {
   "cell_type": "code",
   "execution_count": 19,
   "id": "50a22640-aa51-459f-b304-5cf94108e4f5",
   "metadata": {},
   "outputs": [
    {
     "name": "stdout",
     "output_type": "stream",
     "text": [
      "true\n"
     ]
    }
   ],
   "source": [
    "for num in my_list:\n",
    "    if num == 2:\n",
    "        print(\"true\")"
   ]
  },
  {
   "cell_type": "code",
   "execution_count": 21,
   "id": "99db5c63-7b74-4fb0-9d57-16b2eac8bb4f",
   "metadata": {},
   "outputs": [],
   "source": [
    "my_string = \"Elturan Abdulla\""
   ]
  },
  {
   "cell_type": "code",
   "execution_count": 23,
   "id": "42e46e18-9493-46b9-86ca-419dc0c0f0b1",
   "metadata": {},
   "outputs": [
    {
     "name": "stdout",
     "output_type": "stream",
     "text": [
      "E\n",
      "l\n",
      "t\n",
      "u\n",
      "r\n",
      "a\n",
      "n\n",
      " \n",
      "A\n",
      "b\n",
      "d\n",
      "u\n",
      "l\n",
      "l\n",
      "a\n"
     ]
    }
   ],
   "source": [
    "for letter in my_string:\n",
    "    print(letter)"
   ]
  },
  {
   "cell_type": "code",
   "execution_count": 25,
   "id": "35f3bc4a-c6d4-4895-8012-4d9525a6be0b",
   "metadata": {},
   "outputs": [],
   "source": [
    "my_tuple = (1,2,3)"
   ]
  },
  {
   "cell_type": "code",
   "execution_count": 27,
   "id": "578fdb27-b0b7-4dd0-b765-51f46abd8523",
   "metadata": {},
   "outputs": [
    {
     "name": "stdout",
     "output_type": "stream",
     "text": [
      "-5\n",
      "0\n",
      "5\n"
     ]
    }
   ],
   "source": [
    "for item in my_tuple:\n",
    "    print(item * 5 - 10 )"
   ]
  },
  {
   "cell_type": "code",
   "execution_count": 61,
   "id": "e10ec0dd-3854-484e-b3c4-083c184b776b",
   "metadata": {},
   "outputs": [],
   "source": [
    " my_new_list = [(\"a\",\"b\"),(\"c\",\"d\"),(\"e\",\"b\"),(\"g\",\"h\")]"
   ]
  },
  {
   "cell_type": "code",
   "execution_count": 33,
   "id": "7c3de94e-cb78-48ac-a5db-fbc75ece178d",
   "metadata": {},
   "outputs": [
    {
     "name": "stdout",
     "output_type": "stream",
     "text": [
      "('a', 'b')\n",
      "('c', 'd')\n",
      "('e', 'b')\n",
      "('g', 'h')\n"
     ]
    }
   ],
   "source": [
    "for element in my_new_list:\n",
    "    print(element)"
   ]
  },
  {
   "cell_type": "code",
   "execution_count": 35,
   "id": "07f32286-a47a-406b-b5de-e8024a573ff2",
   "metadata": {},
   "outputs": [
    {
     "name": "stdout",
     "output_type": "stream",
     "text": [
      "('a', 'b')\n",
      "('c', 'd')\n",
      "('e', 'b')\n",
      "('g', 'h')\n"
     ]
    }
   ],
   "source": [
    "for (x,y) in my_new_list:\n",
    "    print((x,y))"
   ]
  },
  {
   "cell_type": "code",
   "execution_count": 37,
   "id": "96a6ef47-d758-4bce-8d70-39f1852a5858",
   "metadata": {},
   "outputs": [
    {
     "name": "stdout",
     "output_type": "stream",
     "text": [
      "a\n",
      "c\n",
      "e\n",
      "g\n"
     ]
    }
   ],
   "source": [
    "for (x,y) in my_new_list:\n",
    "    print(x)"
   ]
  },
  {
   "cell_type": "code",
   "execution_count": 39,
   "id": "512ef1dd-43b6-4681-9046-35140c03eed3",
   "metadata": {},
   "outputs": [
    {
     "name": "stdout",
     "output_type": "stream",
     "text": [
      "b\n",
      "d\n",
      "b\n",
      "h\n"
     ]
    }
   ],
   "source": [
    "for (x,y) in my_new_list:\n",
    "    print(y)"
   ]
  },
  {
   "cell_type": "code",
   "execution_count": 43,
   "id": "01dab982-3543-400d-b304-ba80b4ebac82",
   "metadata": {},
   "outputs": [],
   "source": [
    " my_tuple_list = [(0,1,2),(3,4,5),(9,10,11)]"
   ]
  },
  {
   "cell_type": "code",
   "execution_count": 45,
   "id": "c997ed9b-6036-4a86-93fb-debd1dccc394",
   "metadata": {},
   "outputs": [
    {
     "name": "stdout",
     "output_type": "stream",
     "text": [
      "0\n",
      "3\n",
      "9\n"
     ]
    }
   ],
   "source": [
    "for (x,y,z) in my_tuple_list:\n",
    "    print(x)"
   ]
  },
  {
   "cell_type": "code",
   "execution_count": 47,
   "id": "54669e3f-f588-4c32-af02-4aac2473529a",
   "metadata": {},
   "outputs": [],
   "source": [
    "my_dictionary = {\"k1\": 100, \"k2\":200, \"k3\":300}"
   ]
  },
  {
   "cell_type": "code",
   "execution_count": 53,
   "id": "5d0b798d-c57e-45d9-a035-19ca1aaae06c",
   "metadata": {},
   "outputs": [
    {
     "name": "stdout",
     "output_type": "stream",
     "text": [
      "100\n",
      "200\n",
      "300\n"
     ]
    }
   ],
   "source": [
    "for a,b in my_dictionary.items():\n",
    "    print(b)"
   ]
  },
  {
   "cell_type": "code",
   "execution_count": 55,
   "id": "09fbc4d3-99c7-43b3-896a-e771ffc6b4ff",
   "metadata": {},
   "outputs": [
    {
     "name": "stdout",
     "output_type": "stream",
     "text": [
      "k1\n",
      "k2\n",
      "k3\n"
     ]
    }
   ],
   "source": [
    "for a,b in my_dictionary.items():\n",
    "    print(a)"
   ]
  },
  {
   "cell_type": "code",
   "execution_count": 57,
   "id": "093a2af7-c6aa-4d97-912d-3e692de4e3a5",
   "metadata": {},
   "outputs": [
    {
     "name": "stdout",
     "output_type": "stream",
     "text": [
      "100\n",
      "200\n",
      "300\n"
     ]
    }
   ],
   "source": [
    "for a,b in my_dictionary.items():\n",
    "    print(b)"
   ]
  },
  {
   "cell_type": "code",
   "execution_count": 59,
   "id": "ac1db95a-a7bd-420e-b3af-cc99112c981a",
   "metadata": {},
   "outputs": [
    {
     "name": "stdout",
     "output_type": "stream",
     "text": [
      "k1\n",
      "k2\n",
      "k3\n"
     ]
    }
   ],
   "source": [
    "for (key,value) in my_dictionary.items():\n",
    "    print(key)"
   ]
  },
  {
   "cell_type": "code",
   "execution_count": null,
   "id": "5809c4b6-a17c-4296-8856-6a581d8c75cb",
   "metadata": {},
   "outputs": [],
   "source": []
  }
 ],
 "metadata": {
  "kernelspec": {
   "display_name": "Python 3 (ipykernel)",
   "language": "python",
   "name": "python3"
  },
  "language_info": {
   "codemirror_mode": {
    "name": "ipython",
    "version": 3
   },
   "file_extension": ".py",
   "mimetype": "text/x-python",
   "name": "python",
   "nbconvert_exporter": "python",
   "pygments_lexer": "ipython3",
   "version": "3.12.7"
  }
 },
 "nbformat": 4,
 "nbformat_minor": 5
}
