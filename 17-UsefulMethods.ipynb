{
 "cells": [
  {
   "cell_type": "code",
   "execution_count": 1,
   "id": "77ddb316-a960-4c3c-bc94-4c967a777d88",
   "metadata": {},
   "outputs": [],
   "source": [
    "my_list = [1,2,3,4,5,6,7]"
   ]
  },
  {
   "cell_type": "code",
   "execution_count": 3,
   "id": "7a5c306b-b4ca-46e3-8783-7705e5bcac98",
   "metadata": {},
   "outputs": [
    {
     "name": "stdout",
     "output_type": "stream",
     "text": [
      "1\n",
      "2\n",
      "3\n",
      "4\n",
      "5\n",
      "6\n",
      "7\n"
     ]
    }
   ],
   "source": [
    "for number in my_list:\n",
    "    print(number)"
   ]
  },
  {
   "cell_type": "markdown",
   "id": "1020dd3b-8a8c-4166-a255-a909e4c61029",
   "metadata": {},
   "source": [
    "##range"
   ]
  },
  {
   "cell_type": "code",
   "execution_count": 6,
   "id": "1b64eec9-cb4c-41ab-a4eb-5b3575e7732d",
   "metadata": {},
   "outputs": [
    {
     "data": {
      "text/plain": [
       "range(0, 20)"
      ]
     },
     "execution_count": 6,
     "metadata": {},
     "output_type": "execute_result"
    }
   ],
   "source": [
    "range(20)"
   ]
  },
  {
   "cell_type": "code",
   "execution_count": 8,
   "id": "8519ea4c-33ce-45cf-9209-fc43e85b0c30",
   "metadata": {},
   "outputs": [
    {
     "data": {
      "text/plain": [
       "[0, 1, 2, 3, 4, 5, 6, 7, 8, 9, 10, 11, 12, 13, 14, 15, 16, 17, 18, 19]"
      ]
     },
     "execution_count": 8,
     "metadata": {},
     "output_type": "execute_result"
    }
   ],
   "source": [
    "list(range(20))"
   ]
  },
  {
   "cell_type": "code",
   "execution_count": 10,
   "id": "fa609d4a-c8e8-4440-9737-1cbccae24ac5",
   "metadata": {},
   "outputs": [
    {
     "name": "stdout",
     "output_type": "stream",
     "text": [
      "0\n",
      "5\n",
      "10\n",
      "15\n",
      "20\n",
      "25\n",
      "30\n",
      "35\n",
      "40\n",
      "45\n",
      "50\n",
      "55\n",
      "60\n",
      "65\n",
      "70\n",
      "75\n",
      "80\n",
      "85\n",
      "90\n",
      "95\n"
     ]
    }
   ],
   "source": [
    "for number in list(range(20)):\n",
    "    print(number * 5)"
   ]
  },
  {
   "cell_type": "code",
   "execution_count": 12,
   "id": "cce04af2-805f-41ca-9c3c-73cc010baf2a",
   "metadata": {},
   "outputs": [
    {
     "name": "stdout",
     "output_type": "stream",
     "text": [
      "5\n",
      "6\n",
      "7\n",
      "8\n",
      "9\n",
      "10\n",
      "11\n",
      "12\n",
      "13\n",
      "14\n",
      "15\n",
      "16\n",
      "17\n",
      "18\n",
      "19\n"
     ]
    }
   ],
   "source": [
    "for num in list(range(5,20)):\n",
    "    print(num)"
   ]
  },
  {
   "cell_type": "code",
   "execution_count": 1,
   "id": "3f16ba7e-4008-47e1-8cd6-98b6cf44ef44",
   "metadata": {},
   "outputs": [
    {
     "name": "stdout",
     "output_type": "stream",
     "text": [
      "5\n",
      "9\n",
      "13\n",
      "17\n"
     ]
    }
   ],
   "source": [
    "for num in list(range(5,21,4)):\n",
    "    print(num)"
   ]
  },
  {
   "cell_type": "markdown",
   "id": "3d6cd1ad-d562-456a-8a81-188123491914",
   "metadata": {},
   "source": [
    "## Enumerate"
   ]
  },
  {
   "cell_type": "code",
   "execution_count": 19,
   "id": "7c1525db-8cab-4fbd-9484-bfd47b1ebcf2",
   "metadata": {},
   "outputs": [
    {
     "name": "stdout",
     "output_type": "stream",
     "text": [
      "no : 0 ix: 0\n",
      "no : 1 ix: 0\n",
      "no : 2 ix: 0\n",
      "no : 3 ix: 0\n",
      "no : 4 ix: 0\n",
      "no : 5 ix: 0\n",
      "no : 6 ix: 0\n",
      "no : 7 ix: 0\n",
      "no : 8 ix: 0\n",
      "no : 9 ix: 0\n"
     ]
    }
   ],
   "source": [
    "index = 0\n",
    "for number in list(range(0,10)):\n",
    "    print(f\"no : {number} ix: {index}\")"
   ]
  },
  {
   "cell_type": "code",
   "execution_count": 21,
   "id": "0082af1b-e769-4518-96b9-4d511fe58f8d",
   "metadata": {},
   "outputs": [
    {
     "name": "stdout",
     "output_type": "stream",
     "text": [
      "no : 0 ix: 0\n",
      "no : 1 ix: 1\n",
      "no : 2 ix: 2\n",
      "no : 3 ix: 3\n",
      "no : 4 ix: 4\n",
      "no : 5 ix: 5\n",
      "no : 6 ix: 6\n",
      "no : 7 ix: 7\n",
      "no : 8 ix: 8\n",
      "no : 9 ix: 9\n"
     ]
    }
   ],
   "source": [
    "index = 0\n",
    "for number in list(range(0,10)):\n",
    "    print(f\"no : {number} ix: {index}\")\n",
    "    index += 1"
   ]
  },
  {
   "cell_type": "code",
   "execution_count": 3,
   "id": "d8881441-9e01-447c-90ec-6fed35c5cd6f",
   "metadata": {},
   "outputs": [
    {
     "name": "stdout",
     "output_type": "stream",
     "text": [
      "(0, 5)\n",
      "(1, 6)\n",
      "(2, 7)\n",
      "(3, 8)\n",
      "(4, 9)\n",
      "(5, 10)\n",
      "(6, 11)\n",
      "(7, 12)\n",
      "(8, 13)\n",
      "(9, 14)\n"
     ]
    }
   ],
   "source": [
    "for element in enumerate(list(range(5,15))):\n",
    "    print(element)"
   ]
  },
  {
   "cell_type": "code",
   "execution_count": 5,
   "id": "966508d1-00d4-4e5d-af24-7a6bf82958e2",
   "metadata": {},
   "outputs": [
    {
     "name": "stdout",
     "output_type": "stream",
     "text": [
      "0\n",
      "5\n",
      "1\n",
      "6\n",
      "2\n",
      "7\n",
      "3\n",
      "8\n",
      "4\n",
      "9\n",
      "5\n",
      "10\n",
      "6\n",
      "11\n",
      "7\n",
      "12\n",
      "8\n",
      "13\n",
      "9\n",
      "14\n"
     ]
    }
   ],
   "source": [
    "for (index,number) in enumerate (list(range(5,15))):\n",
    "    print(index)\n",
    "    print(number)"
   ]
  },
  {
   "cell_type": "code",
   "execution_count": 7,
   "id": "250d13b3-5b07-4146-aac6-921b6a231d13",
   "metadata": {},
   "outputs": [
    {
     "name": "stdout",
     "output_type": "stream",
     "text": [
      "0 5\n",
      "1 6\n",
      "2 7\n",
      "3 8\n",
      "4 9\n",
      "5 10\n",
      "6 11\n",
      "7 12\n",
      "8 13\n",
      "9 14\n"
     ]
    }
   ],
   "source": [
    "for (index,number) in enumerate (list(range(5,15))):\n",
    "    print(index,number)\n"
   ]
  },
  {
   "cell_type": "code",
   "execution_count": 11,
   "id": "13d36fe9-a866-4146-b747-ae16f79009b6",
   "metadata": {},
   "outputs": [],
   "source": [
    "## ZIP ve RANDOM"
   ]
  },
  {
   "cell_type": "code",
   "execution_count": 13,
   "id": "8fea7f36-88f2-4c6d-b22c-7639f3627fd4",
   "metadata": {},
   "outputs": [],
   "source": [
    "## RANDOM"
   ]
  },
  {
   "cell_type": "code",
   "execution_count": 15,
   "id": "db3eb515-650d-49b3-a548-8560006a96bb",
   "metadata": {},
   "outputs": [],
   "source": [
    "from random import randint"
   ]
  },
  {
   "cell_type": "code",
   "execution_count": 17,
   "id": "139d6a8f-c965-4c32-850b-b8e898f65b8c",
   "metadata": {},
   "outputs": [
    {
     "data": {
      "text/plain": [
       "341"
      ]
     },
     "execution_count": 17,
     "metadata": {},
     "output_type": "execute_result"
    }
   ],
   "source": [
    "randint(0,1000)"
   ]
  },
  {
   "cell_type": "code",
   "execution_count": 19,
   "id": "ddf1c68b-94ad-4c64-8a47-83273fd7bcf9",
   "metadata": {},
   "outputs": [
    {
     "data": {
      "text/plain": [
       "552"
      ]
     },
     "execution_count": 19,
     "metadata": {},
     "output_type": "execute_result"
    }
   ],
   "source": [
    "randint(0,1000)"
   ]
  },
  {
   "cell_type": "code",
   "execution_count": 21,
   "id": "99d5daba-e010-4c39-8e27-0c9e3965e52b",
   "metadata": {},
   "outputs": [],
   "source": [
    "my_list_2 = list(range(0,20))"
   ]
  },
  {
   "cell_type": "code",
   "execution_count": 23,
   "id": "df871029-100a-41ec-bcc4-21ca5b18973c",
   "metadata": {},
   "outputs": [
    {
     "data": {
      "text/plain": [
       "[0, 1, 2, 3, 4, 5, 6, 7, 8, 9, 10, 11, 12, 13, 14, 15, 16, 17, 18, 19]"
      ]
     },
     "execution_count": 23,
     "metadata": {},
     "output_type": "execute_result"
    }
   ],
   "source": [
    "my_list_2"
   ]
  },
  {
   "cell_type": "code",
   "execution_count": 25,
   "id": "5db1a7d0-25e6-469f-a1c8-247cf99127cd",
   "metadata": {},
   "outputs": [],
   "source": [
    "from random import shuffle"
   ]
  },
  {
   "cell_type": "code",
   "execution_count": 27,
   "id": "51a5f482-a514-4615-8758-9aee3e0a20d3",
   "metadata": {},
   "outputs": [],
   "source": [
    "shuffle(my_list_2)"
   ]
  },
  {
   "cell_type": "code",
   "execution_count": 29,
   "id": "03044905-f6c1-426b-9c22-e23939a1767d",
   "metadata": {},
   "outputs": [
    {
     "data": {
      "text/plain": [
       "[5, 10, 3, 19, 2, 15, 8, 1, 6, 17, 4, 11, 16, 14, 9, 18, 12, 13, 0, 7]"
      ]
     },
     "execution_count": 29,
     "metadata": {},
     "output_type": "execute_result"
    }
   ],
   "source": [
    "my_list_2"
   ]
  },
  {
   "cell_type": "markdown",
   "id": "2c1f8248-9410-425c-9c51-d6a88162ad12",
   "metadata": {},
   "source": [
    "## ZIP"
   ]
  },
  {
   "cell_type": "code",
   "execution_count": 35,
   "id": "c299c9ab-1a49-40d3-acbd-20e19396c6f6",
   "metadata": {},
   "outputs": [],
   "source": [
    "sport_list = [\"run\",\"swim\",\"basketball\"]"
   ]
  },
  {
   "cell_type": "code",
   "execution_count": 37,
   "id": "f7666dc7-819b-479d-8351-072c2adbcfc7",
   "metadata": {},
   "outputs": [],
   "source": [
    "calories_list = [100,200,300]"
   ]
  },
  {
   "cell_type": "code",
   "execution_count": 39,
   "id": "4a9b4bc9-fc63-4906-a9ac-579a8219cf49",
   "metadata": {},
   "outputs": [],
   "source": [
    "day_list = [\"monday\",\"yuesday\",\"wadnesday\"]"
   ]
  },
  {
   "cell_type": "code",
   "execution_count": 49,
   "id": "e391220f-ba57-44fe-8eea-c7a75d414fc0",
   "metadata": {},
   "outputs": [],
   "source": [
    "new_list = list(zip(sport_list,calories_list,day_list))"
   ]
  },
  {
   "cell_type": "code",
   "execution_count": 51,
   "id": "54e02296-3e7d-45e8-a0b8-dfb6c70012bf",
   "metadata": {},
   "outputs": [
    {
     "data": {
      "text/plain": [
       "[('run', 100, 'monday'),\n",
       " ('swim', 200, 'yuesday'),\n",
       " ('basketball', 300, 'wadnesday')]"
      ]
     },
     "execution_count": 51,
     "metadata": {},
     "output_type": "execute_result"
    }
   ],
   "source": [
    "new_list"
   ]
  },
  {
   "cell_type": "code",
   "execution_count": 53,
   "id": "d1eb4745-4621-4d62-a1d9-b2b935cb56a8",
   "metadata": {},
   "outputs": [
    {
     "name": "stdout",
     "output_type": "stream",
     "text": [
      "('run', 100, 'monday')\n",
      "('swim', 200, 'yuesday')\n",
      "('basketball', 300, 'wadnesday')\n"
     ]
    }
   ],
   "source": [
    "for element in new_list:\n",
    "    print(element)"
   ]
  },
  {
   "cell_type": "markdown",
   "id": "155213ea-e063-46a0-bcc6-fb5aef165c37",
   "metadata": {},
   "source": [
    "## LIST Advamced"
   ]
  },
  {
   "cell_type": "code",
   "execution_count": 11,
   "id": "bcb57de6-4a53-441c-808c-c2c695889332",
   "metadata": {},
   "outputs": [],
   "source": [
    "new_list_2 = []\n",
    "my_string_2 = \"cyber\"\n",
    "\n",
    "for element in my_string_2:\n",
    "    new_list_2.append(element)"
   ]
  },
  {
   "cell_type": "code",
   "execution_count": 13,
   "id": "a0c96ff8-f00c-4fca-b223-2f600c5dce75",
   "metadata": {},
   "outputs": [
    {
     "data": {
      "text/plain": [
       "['c', 'y', 'b', 'e', 'r']"
      ]
     },
     "execution_count": 13,
     "metadata": {},
     "output_type": "execute_result"
    }
   ],
   "source": [
    "new_list_2"
   ]
  },
  {
   "cell_type": "code",
   "execution_count": 17,
   "id": "46d98802-3f1e-4c78-b981-0009abdec1a5",
   "metadata": {},
   "outputs": [],
   "source": [
    "new_list_2 = [ element for element in my_string_2]"
   ]
  },
  {
   "cell_type": "code",
   "execution_count": 19,
   "id": "6d8b7798-336e-4ff7-a707-985407097b9f",
   "metadata": {},
   "outputs": [
    {
     "data": {
      "text/plain": [
       "['c', 'y', 'b', 'e', 'r']"
      ]
     },
     "execution_count": 19,
     "metadata": {},
     "output_type": "execute_result"
    }
   ],
   "source": [
    "new_list_2"
   ]
  },
  {
   "cell_type": "code",
   "execution_count": 23,
   "id": "5095d7d7-e9ff-439f-93d3-c9632df6c2bd",
   "metadata": {},
   "outputs": [],
   "source": [
    "new_list_3 = [ number for number in list(range(0,10))]"
   ]
  },
  {
   "cell_type": "code",
   "execution_count": 25,
   "id": "768a0f62-ecf2-45fa-ba46-d2dca7da6fd6",
   "metadata": {},
   "outputs": [
    {
     "data": {
      "text/plain": [
       "[0, 1, 2, 3, 4, 5, 6, 7, 8, 9]"
      ]
     },
     "execution_count": 25,
     "metadata": {},
     "output_type": "execute_result"
    }
   ],
   "source": [
    "new_list_3"
   ]
  },
  {
   "cell_type": "code",
   "execution_count": 27,
   "id": "ff182185-9e33-4622-ab28-dfa03975210b",
   "metadata": {},
   "outputs": [],
   "source": [
    "new_list_3 = [ number*5 for number in list(range(0,10))]"
   ]
  },
  {
   "cell_type": "code",
   "execution_count": 29,
   "id": "8554ee25-018f-45cf-8739-72e5a980015d",
   "metadata": {},
   "outputs": [
    {
     "data": {
      "text/plain": [
       "[0, 5, 10, 15, 20, 25, 30, 35, 40, 45]"
      ]
     },
     "execution_count": 29,
     "metadata": {},
     "output_type": "execute_result"
    }
   ],
   "source": [
    "new_list_3"
   ]
  },
  {
   "cell_type": "code",
   "execution_count": null,
   "id": "c97c97a9-4830-46c5-938a-d61f4b136b45",
   "metadata": {},
   "outputs": [],
   "source": []
  }
 ],
 "metadata": {
  "kernelspec": {
   "display_name": "Python 3 (ipykernel)",
   "language": "python",
   "name": "python3"
  },
  "language_info": {
   "codemirror_mode": {
    "name": "ipython",
    "version": 3
   },
   "file_extension": ".py",
   "mimetype": "text/x-python",
   "name": "python",
   "nbconvert_exporter": "python",
   "pygments_lexer": "ipython3",
   "version": "3.12.7"
  }
 },
 "nbformat": 4,
 "nbformat_minor": 5
}
