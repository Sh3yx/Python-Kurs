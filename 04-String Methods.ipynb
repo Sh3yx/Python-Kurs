{
 "cells": [
  {
   "cell_type": "code",
   "execution_count": 1,
   "id": "d50a3456-ce24-4b43-910f-df8f415d52a4",
   "metadata": {},
   "outputs": [],
   "source": [
    "my_name = \"ferid\""
   ]
  },
  {
   "cell_type": "code",
   "execution_count": 3,
   "id": "d12222a4-46fd-428a-9aa8-22bc25e0940a",
   "metadata": {},
   "outputs": [
    {
     "data": {
      "text/plain": [
       "'Ferid'"
      ]
     },
     "execution_count": 3,
     "metadata": {},
     "output_type": "execute_result"
    }
   ],
   "source": [
    "my_name.capitalize()"
   ]
  },
  {
   "cell_type": "code",
   "execution_count": 5,
   "id": "c36e9f64-c267-48e3-8e20-b98c292c83d1",
   "metadata": {},
   "outputs": [
    {
     "data": {
      "text/plain": [
       "'ferid'"
      ]
     },
     "execution_count": 5,
     "metadata": {},
     "output_type": "execute_result"
    }
   ],
   "source": [
    "my_name"
   ]
  },
  {
   "cell_type": "code",
   "execution_count": 7,
   "id": "fe850887-0542-4dae-97d9-972a735023a9",
   "metadata": {},
   "outputs": [],
   "source": [
    "my_name_capitalize = my_name.capitalize()"
   ]
  },
  {
   "cell_type": "code",
   "execution_count": 9,
   "id": "adb30c61-68cd-459b-9309-48267dcfe069",
   "metadata": {},
   "outputs": [
    {
     "data": {
      "text/plain": [
       "'Ferid'"
      ]
     },
     "execution_count": 9,
     "metadata": {},
     "output_type": "execute_result"
    }
   ],
   "source": [
    "my_name_capitalize"
   ]
  },
  {
   "cell_type": "code",
   "execution_count": 13,
   "id": "ae56f155-b99e-4035-9bde-260584c781f4",
   "metadata": {},
   "outputs": [],
   "source": [
    "my_name = \"Ferid Andullayev\""
   ]
  },
  {
   "cell_type": "code",
   "execution_count": 15,
   "id": "4cd16e98-5ba7-4929-92ae-f2e1c60f8ef0",
   "metadata": {},
   "outputs": [
    {
     "data": {
      "text/plain": [
       "['Ferid', 'Andullayev']"
      ]
     },
     "execution_count": 15,
     "metadata": {},
     "output_type": "execute_result"
    }
   ],
   "source": [
    "my_name.split()"
   ]
  },
  {
   "cell_type": "code",
   "execution_count": 17,
   "id": "9a948dfe-0294-4253-9031-8e76935b7b0a",
   "metadata": {},
   "outputs": [],
   "source": [
    "my_name_split = my_name.split()"
   ]
  },
  {
   "cell_type": "code",
   "execution_count": 19,
   "id": "b75e499b-fb4a-442a-b9ee-3221841bcf32",
   "metadata": {},
   "outputs": [
    {
     "data": {
      "text/plain": [
       "['Ferid', 'Andullayev']"
      ]
     },
     "execution_count": 19,
     "metadata": {},
     "output_type": "execute_result"
    }
   ],
   "source": [
    "my_name_split"
   ]
  },
  {
   "cell_type": "code",
   "execution_count": 21,
   "id": "14ff6a17-2dad-46fc-830f-b2565ad7289f",
   "metadata": {},
   "outputs": [
    {
     "data": {
      "text/plain": [
       "'feridferidferidferidferidferidferidferidferidferidferidferidferidferidferidferidferidferidferidferidferidferidferidferidferidferidferidferidferidferidferidferidferidferidferidferidferidferidferidferidferidferidferidferidferidferidferidferidferidferidferidferidferidferidferidferidferidferidferidferidferidferidferidferidferidferidferidferidferidferidferidferidferidferidferidferidferidferidferidferidferidferidferidferidferidferidferidferidferidferidferidferidferidferidferidferidferidferidferidferid'"
      ]
     },
     "execution_count": 21,
     "metadata": {},
     "output_type": "execute_result"
    }
   ],
   "source": [
    "\"ferid\" * 10 * 10"
   ]
  },
  {
   "cell_type": "code",
   "execution_count": 23,
   "id": "02656802-5bce-4a7f-a1a4-f880a05d721f",
   "metadata": {},
   "outputs": [
    {
     "ename": "TypeError",
     "evalue": "can't multiply sequence by non-int of type 'float'",
     "output_type": "error",
     "traceback": [
      "\u001b[1;31m---------------------------------------------------------------------------\u001b[0m",
      "\u001b[1;31mTypeError\u001b[0m                                 Traceback (most recent call last)",
      "Cell \u001b[1;32mIn[23], line 1\u001b[0m\n\u001b[1;32m----> 1\u001b[0m \u001b[38;5;124m\"\u001b[39m\u001b[38;5;124mferid\u001b[39m\u001b[38;5;124m\"\u001b[39m \u001b[38;5;241m*\u001b[39m \u001b[38;5;241m10\u001b[39m \u001b[38;5;241m*\u001b[39m \u001b[38;5;241m10.5\u001b[39m\n",
      "\u001b[1;31mTypeError\u001b[0m: can't multiply sequence by non-int of type 'float'"
     ]
    }
   ],
   "source": [
    "\"ferid\" * 10 * 10.5"
   ]
  },
  {
   "cell_type": "code",
   "execution_count": 25,
   "id": "cf79c8e1-51e7-4349-9152-95d763b408c8",
   "metadata": {},
   "outputs": [
    {
     "data": {
      "text/plain": [
       "'feridabdullayev'"
      ]
     },
     "execution_count": 25,
     "metadata": {},
     "output_type": "execute_result"
    }
   ],
   "source": [
    "\"ferid\" + \"abdullayev\""
   ]
  },
  {
   "cell_type": "code",
   "execution_count": 27,
   "id": "39084ab6-930c-42d4-8bd5-a5923b13e7bf",
   "metadata": {},
   "outputs": [],
   "source": [
    "my_name = \"ferid\""
   ]
  },
  {
   "cell_type": "code",
   "execution_count": 29,
   "id": "1f5cc620-f7d5-41f4-acb8-d6d31459f6b1",
   "metadata": {},
   "outputs": [],
   "source": [
    "my_surname=\"abdullayev\""
   ]
  },
  {
   "cell_type": "code",
   "execution_count": 31,
   "id": "a5ce9ca3-8c80-4fdf-8384-7443bfd757c8",
   "metadata": {},
   "outputs": [],
   "source": [
    "my_full_name = my_name + my_surname"
   ]
  },
  {
   "cell_type": "code",
   "execution_count": 33,
   "id": "f3c943f4-d7db-426d-b429-29e7a62bb2ff",
   "metadata": {},
   "outputs": [
    {
     "data": {
      "text/plain": [
       "'feridabdullayev'"
      ]
     },
     "execution_count": 33,
     "metadata": {},
     "output_type": "execute_result"
    }
   ],
   "source": [
    "my_full_name"
   ]
  },
  {
   "cell_type": "code",
   "execution_count": 35,
   "id": "bf241920-56d5-4555-8885-c6e51f918d49",
   "metadata": {},
   "outputs": [],
   "source": [
    "my_full_name = my_name + \" \" + my_surname"
   ]
  },
  {
   "cell_type": "code",
   "execution_count": 37,
   "id": "f2a203fd-6815-4c88-8466-da3001858977",
   "metadata": {},
   "outputs": [
    {
     "data": {
      "text/plain": [
       "'ferid abdullayev'"
      ]
     },
     "execution_count": 37,
     "metadata": {},
     "output_type": "execute_result"
    }
   ],
   "source": [
    "my_full_name"
   ]
  },
  {
   "cell_type": "code",
   "execution_count": null,
   "id": "86b3a3c4-7c67-49cd-9f33-1c4c69a378ce",
   "metadata": {},
   "outputs": [],
   "source": []
  }
 ],
 "metadata": {
  "kernelspec": {
   "display_name": "Python 3 (ipykernel)",
   "language": "python",
   "name": "python3"
  },
  "language_info": {
   "codemirror_mode": {
    "name": "ipython",
    "version": 3
   },
   "file_extension": ".py",
   "mimetype": "text/x-python",
   "name": "python",
   "nbconvert_exporter": "python",
   "pygments_lexer": "ipython3",
   "version": "3.12.7"
  }
 },
 "nbformat": 4,
 "nbformat_minor": 5
}
