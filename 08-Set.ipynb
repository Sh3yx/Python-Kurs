{
 "cells": [
  {
   "cell_type": "code",
   "execution_count": 1,
   "id": "70dcf56f-fbb2-4aa7-adcd-42152ba8713f",
   "metadata": {},
   "outputs": [],
   "source": [
    "my_list = [1,2,3,1]"
   ]
  },
  {
   "cell_type": "code",
   "execution_count": 3,
   "id": "0bac0d17-0b5f-4934-8a79-6e763b210ac2",
   "metadata": {},
   "outputs": [
    {
     "data": {
      "text/plain": [
       "[1, 2, 3, 1]"
      ]
     },
     "execution_count": 3,
     "metadata": {},
     "output_type": "execute_result"
    }
   ],
   "source": [
    "my_list"
   ]
  },
  {
   "cell_type": "markdown",
   "id": "715d20f5-eefd-453f-a0fe-4b9813dd6ca6",
   "metadata": {},
   "source": [
    "##casting"
   ]
  },
  {
   "cell_type": "code",
   "execution_count": 6,
   "id": "8bc788bf-bdf8-4c3c-916d-85e93b3f40c6",
   "metadata": {},
   "outputs": [],
   "source": [
    "my_set = set(my_list)"
   ]
  },
  {
   "cell_type": "code",
   "execution_count": 8,
   "id": "e2b1cb57-9615-4682-a532-06883a7ae0a7",
   "metadata": {},
   "outputs": [
    {
     "data": {
      "text/plain": [
       "{1, 2, 3}"
      ]
     },
     "execution_count": 8,
     "metadata": {},
     "output_type": "execute_result"
    }
   ],
   "source": [
    "my_set"
   ]
  },
  {
   "cell_type": "code",
   "execution_count": 10,
   "id": "15f03ec4-b5e0-4c87-bada-27e3207b3b86",
   "metadata": {},
   "outputs": [],
   "source": [
    "my_set_2 = {1,2,3,1}"
   ]
  },
  {
   "cell_type": "code",
   "execution_count": 12,
   "id": "1bab8ee1-9c66-4d5e-814e-e72d6fa312d3",
   "metadata": {},
   "outputs": [
    {
     "data": {
      "text/plain": [
       "{1, 2, 3}"
      ]
     },
     "execution_count": 12,
     "metadata": {},
     "output_type": "execute_result"
    }
   ],
   "source": [
    "my_set_2"
   ]
  },
  {
   "cell_type": "code",
   "execution_count": 14,
   "id": "87a6aa87-457e-4193-bbb1-56ca0b54be15",
   "metadata": {},
   "outputs": [
    {
     "data": {
      "text/plain": [
       "set"
      ]
     },
     "execution_count": 14,
     "metadata": {},
     "output_type": "execute_result"
    }
   ],
   "source": [
    "type(my_set_2)"
   ]
  },
  {
   "cell_type": "code",
   "execution_count": 16,
   "id": "2fd1795d-c24d-478e-84d4-e74cb895069d",
   "metadata": {},
   "outputs": [],
   "source": [
    "my_set_3 = {\"a\",\"b\",\"a\"}"
   ]
  },
  {
   "cell_type": "code",
   "execution_count": 18,
   "id": "2e56cec3-cc57-4f91-9803-8203d2140027",
   "metadata": {},
   "outputs": [
    {
     "data": {
      "text/plain": [
       "{'a', 'b'}"
      ]
     },
     "execution_count": 18,
     "metadata": {},
     "output_type": "execute_result"
    }
   ],
   "source": [
    "my_set_3"
   ]
  },
  {
   "cell_type": "code",
   "execution_count": 22,
   "id": "2e5476a9-4a00-4dc4-8dd5-72033ff6e165",
   "metadata": {},
   "outputs": [],
   "source": [
    "my_list=[]"
   ]
  },
  {
   "cell_type": "code",
   "execution_count": 24,
   "id": "7683ce62-e75e-4f7a-84cd-fdf071b39330",
   "metadata": {},
   "outputs": [
    {
     "data": {
      "text/plain": [
       "[]"
      ]
     },
     "execution_count": 24,
     "metadata": {},
     "output_type": "execute_result"
    }
   ],
   "source": [
    "my_list"
   ]
  },
  {
   "cell_type": "code",
   "execution_count": 26,
   "id": "444994c0-8641-4f08-9c76-7b1aa5d5bf4e",
   "metadata": {},
   "outputs": [],
   "source": [
    "my_list.append(1)"
   ]
  },
  {
   "cell_type": "code",
   "execution_count": 28,
   "id": "462f6e7c-6c5c-4f80-a5c4-d30cb6245f9e",
   "metadata": {},
   "outputs": [
    {
     "data": {
      "text/plain": [
       "[1]"
      ]
     },
     "execution_count": 28,
     "metadata": {},
     "output_type": "execute_result"
    }
   ],
   "source": [
    "my_list"
   ]
  },
  {
   "cell_type": "code",
   "execution_count": 32,
   "id": "88a58e53-fd1c-4f5c-841c-fe5b74b59238",
   "metadata": {},
   "outputs": [],
   "source": [
    "my_set_4={}"
   ]
  },
  {
   "cell_type": "code",
   "execution_count": 34,
   "id": "29408972-dd9d-4357-bff0-7af8d74a3155",
   "metadata": {},
   "outputs": [
    {
     "data": {
      "text/plain": [
       "{}"
      ]
     },
     "execution_count": 34,
     "metadata": {},
     "output_type": "execute_result"
    }
   ],
   "source": [
    "my_set_4"
   ]
  },
  {
   "cell_type": "code",
   "execution_count": 36,
   "id": "8f9060e3-b050-4c0a-8af1-015faede3eaf",
   "metadata": {},
   "outputs": [
    {
     "data": {
      "text/plain": [
       "dict"
      ]
     },
     "execution_count": 36,
     "metadata": {},
     "output_type": "execute_result"
    }
   ],
   "source": [
    "type(my_set_4)"
   ]
  },
  {
   "cell_type": "code",
   "execution_count": 38,
   "id": "6ba76a10-964a-48e5-a489-eccd082e023b",
   "metadata": {},
   "outputs": [],
   "source": [
    "my_set_4[\"key1\"] = 1"
   ]
  },
  {
   "cell_type": "code",
   "execution_count": 40,
   "id": "117285c8-96c2-4fc7-af5d-1c89d70b1679",
   "metadata": {},
   "outputs": [
    {
     "data": {
      "text/plain": [
       "{'key1': 1}"
      ]
     },
     "execution_count": 40,
     "metadata": {},
     "output_type": "execute_result"
    }
   ],
   "source": [
    "my_set_4"
   ]
  },
  {
   "cell_type": "code",
   "execution_count": 42,
   "id": "86fffdc6-e3a0-4106-a0b2-f036516649eb",
   "metadata": {},
   "outputs": [],
   "source": [
    "my_set_5 = set()"
   ]
  },
  {
   "cell_type": "code",
   "execution_count": 44,
   "id": "b30a3ea2-5bae-4913-94de-18d72cf5aa1d",
   "metadata": {},
   "outputs": [
    {
     "data": {
      "text/plain": [
       "set()"
      ]
     },
     "execution_count": 44,
     "metadata": {},
     "output_type": "execute_result"
    }
   ],
   "source": [
    "my_set_5"
   ]
  },
  {
   "cell_type": "code",
   "execution_count": 46,
   "id": "d172b1bc-930d-4f03-beb3-e33ba68721a9",
   "metadata": {},
   "outputs": [],
   "source": [
    "my_set_5.add(1)"
   ]
  },
  {
   "cell_type": "code",
   "execution_count": 51,
   "id": "1ab22d3f-c7b9-4caf-b691-bec8eb1d9c3b",
   "metadata": {},
   "outputs": [],
   "source": [
    "my_set_5.add(2)"
   ]
  },
  {
   "cell_type": "code",
   "execution_count": 53,
   "id": "ed469dba-2450-4873-b3d6-1fb76a7e76e1",
   "metadata": {},
   "outputs": [
    {
     "data": {
      "text/plain": [
       "{1, 2}"
      ]
     },
     "execution_count": 53,
     "metadata": {},
     "output_type": "execute_result"
    }
   ],
   "source": [
    "my_set_5"
   ]
  },
  {
   "cell_type": "code",
   "execution_count": 55,
   "id": "4fd24c3a-d43e-4a5d-853a-6e1822b10ec7",
   "metadata": {},
   "outputs": [],
   "source": [
    "my_set_5.add(2)"
   ]
  },
  {
   "cell_type": "code",
   "execution_count": 57,
   "id": "249d3dce-2e40-4cb9-81f0-3c44a5d29d9a",
   "metadata": {},
   "outputs": [
    {
     "data": {
      "text/plain": [
       "{1, 2}"
      ]
     },
     "execution_count": 57,
     "metadata": {},
     "output_type": "execute_result"
    }
   ],
   "source": [
    "my_set_5"
   ]
  },
  {
   "cell_type": "code",
   "execution_count": 59,
   "id": "4c46654c-fb4c-4eb6-96fe-47aefc85b051",
   "metadata": {},
   "outputs": [
    {
     "data": {
      "text/plain": [
       "set"
      ]
     },
     "execution_count": 59,
     "metadata": {},
     "output_type": "execute_result"
    }
   ],
   "source": [
    "type(my_set_5)"
   ]
  },
  {
   "cell_type": "code",
   "execution_count": 61,
   "id": "4e7e32df-a8a7-4454-9c56-174d161ea732",
   "metadata": {},
   "outputs": [],
   "source": [
    "my_dict_2 = dict()"
   ]
  },
  {
   "cell_type": "code",
   "execution_count": 63,
   "id": "c9b9f992-0234-47a2-a1b4-bf00cf4f7270",
   "metadata": {},
   "outputs": [],
   "source": [
    "my_dict_2[\"key1\"] =1"
   ]
  },
  {
   "cell_type": "code",
   "execution_count": 65,
   "id": "6a37e108-b8b7-4081-b8a2-777fa5ba4cf4",
   "metadata": {},
   "outputs": [],
   "source": [
    "my_list_5 = list()"
   ]
  },
  {
   "cell_type": "code",
   "execution_count": 69,
   "id": "191c6d67-221c-4dff-82fe-bae7e359985a",
   "metadata": {},
   "outputs": [],
   "source": [
    "my_list_5.append(\"a\")"
   ]
  },
  {
   "cell_type": "code",
   "execution_count": 71,
   "id": "36920666-29ad-4dd7-bb5c-51cc99f44cbe",
   "metadata": {},
   "outputs": [],
   "source": [
    "my_list_5.append(2)"
   ]
  },
  {
   "cell_type": "code",
   "execution_count": 73,
   "id": "897538dd-78b4-4c02-9a76-5439624e76e3",
   "metadata": {},
   "outputs": [],
   "source": [
    "my_list_5.append([1,2])"
   ]
  },
  {
   "cell_type": "code",
   "execution_count": 75,
   "id": "58270498-9e81-49b9-b911-7a7952ed6ac0",
   "metadata": {},
   "outputs": [
    {
     "data": {
      "text/plain": [
       "[2, 'a', 2, [1, 2]]"
      ]
     },
     "execution_count": 75,
     "metadata": {},
     "output_type": "execute_result"
    }
   ],
   "source": [
    "my_list_5"
   ]
  },
  {
   "cell_type": "code",
   "execution_count": null,
   "id": "b3c77081-05ff-4c83-9a47-592c7002b43e",
   "metadata": {},
   "outputs": [],
   "source": []
  }
 ],
 "metadata": {
  "kernelspec": {
   "display_name": "Python 3 (ipykernel)",
   "language": "python",
   "name": "python3"
  },
  "language_info": {
   "codemirror_mode": {
    "name": "ipython",
    "version": 3
   },
   "file_extension": ".py",
   "mimetype": "text/x-python",
   "name": "python",
   "nbconvert_exporter": "python",
   "pygments_lexer": "ipython3",
   "version": "3.12.7"
  }
 },
 "nbformat": 4,
 "nbformat_minor": 5
}
