{
 "cells": [
  {
   "cell_type": "code",
   "execution_count": 1,
   "id": "bd9bbedb-a514-4438-9015-16b1ded94fa9",
   "metadata": {},
   "outputs": [
    {
     "data": {
      "text/plain": [
       "True"
      ]
     },
     "execution_count": 1,
     "metadata": {},
     "output_type": "execute_result"
    }
   ],
   "source": [
    "True"
   ]
  },
  {
   "cell_type": "code",
   "execution_count": 3,
   "id": "afa76fc3-d93a-4eee-9fe6-b4988a992deb",
   "metadata": {},
   "outputs": [
    {
     "data": {
      "text/plain": [
       "False"
      ]
     },
     "execution_count": 3,
     "metadata": {},
     "output_type": "execute_result"
    }
   ],
   "source": [
    "False"
   ]
  },
  {
   "cell_type": "code",
   "execution_count": 5,
   "id": "7edc1ab5-80d7-421e-9d8e-775fa71f2381",
   "metadata": {},
   "outputs": [],
   "source": [
    "my_boolean = True"
   ]
  },
  {
   "cell_type": "code",
   "execution_count": 7,
   "id": "c4cd7d47-89b1-4c07-b737-2abb7cf28ff8",
   "metadata": {},
   "outputs": [],
   "source": [
    "is_dead = False"
   ]
  },
  {
   "cell_type": "code",
   "execution_count": 9,
   "id": "af8a092f-d830-49dc-bf6b-67aafa157603",
   "metadata": {},
   "outputs": [
    {
     "data": {
      "text/plain": [
       "True"
      ]
     },
     "execution_count": 9,
     "metadata": {},
     "output_type": "execute_result"
    }
   ],
   "source": [
    "5 > 3"
   ]
  },
  {
   "cell_type": "code",
   "execution_count": 11,
   "id": "9c5366f9-461a-4e61-a01a-ccf658cefcef",
   "metadata": {},
   "outputs": [
    {
     "data": {
      "text/plain": [
       "13"
      ]
     },
     "execution_count": 11,
     "metadata": {},
     "output_type": "execute_result"
    }
   ],
   "source": [
    "5 + 8"
   ]
  },
  {
   "cell_type": "code",
   "execution_count": 13,
   "id": "626dc1f4-a3e0-4ace-91cf-e8b657b7fd00",
   "metadata": {},
   "outputs": [
    {
     "data": {
      "text/plain": [
       "False"
      ]
     },
     "execution_count": 13,
     "metadata": {},
     "output_type": "execute_result"
    }
   ],
   "source": [
    "3 > 5"
   ]
  },
  {
   "cell_type": "code",
   "execution_count": 15,
   "id": "bfa71d1b-310a-47ab-861c-cf8c8d7c3f24",
   "metadata": {},
   "outputs": [],
   "source": [
    "x = 5"
   ]
  },
  {
   "cell_type": "code",
   "execution_count": 19,
   "id": "c199272d-8e3a-46d3-ac19-d827ba5d22bc",
   "metadata": {},
   "outputs": [
    {
     "name": "stdin",
     "output_type": "stream",
     "text": [
      "y:  6\n"
     ]
    }
   ],
   "source": [
    "y = input(\"y: \")"
   ]
  },
  {
   "cell_type": "code",
   "execution_count": 21,
   "id": "fdd1e321-2165-4f2b-bd23-008f16bc66cd",
   "metadata": {},
   "outputs": [
    {
     "data": {
      "text/plain": [
       "str"
      ]
     },
     "execution_count": 21,
     "metadata": {},
     "output_type": "execute_result"
    }
   ],
   "source": [
    "type(y)"
   ]
  },
  {
   "cell_type": "code",
   "execution_count": 23,
   "id": "91815e98-66e0-4fdd-ae30-42b2bdd7a5cf",
   "metadata": {},
   "outputs": [],
   "source": [
    "y_int = int(y)"
   ]
  },
  {
   "cell_type": "code",
   "execution_count": 25,
   "id": "e642fa80-83fa-4740-8be4-df40ca6bc2e8",
   "metadata": {},
   "outputs": [
    {
     "data": {
      "text/plain": [
       "int"
      ]
     },
     "execution_count": 25,
     "metadata": {},
     "output_type": "execute_result"
    }
   ],
   "source": [
    "type(y_int)"
   ]
  },
  {
   "cell_type": "code",
   "execution_count": 27,
   "id": "b41d0ccd-b27c-4eb5-b71b-e3e9ffcd80af",
   "metadata": {},
   "outputs": [
    {
     "data": {
      "text/plain": [
       "6"
      ]
     },
     "execution_count": 27,
     "metadata": {},
     "output_type": "execute_result"
    }
   ],
   "source": [
    "y_int "
   ]
  },
  {
   "cell_type": "code",
   "execution_count": 29,
   "id": "d0513914-8c09-4f6d-9756-ea110b92915a",
   "metadata": {},
   "outputs": [
    {
     "data": {
      "text/plain": [
       "True"
      ]
     },
     "execution_count": 29,
     "metadata": {},
     "output_type": "execute_result"
    }
   ],
   "source": [
    "y_int > x"
   ]
  },
  {
   "cell_type": "code",
   "execution_count": null,
   "id": "bad39257-a4e1-46dc-bf9a-3242c91547c7",
   "metadata": {},
   "outputs": [],
   "source": []
  }
 ],
 "metadata": {
  "kernelspec": {
   "display_name": "Python 3 (ipykernel)",
   "language": "python",
   "name": "python3"
  },
  "language_info": {
   "codemirror_mode": {
    "name": "ipython",
    "version": 3
   },
   "file_extension": ".py",
   "mimetype": "text/x-python",
   "name": "python",
   "nbconvert_exporter": "python",
   "pygments_lexer": "ipython3",
   "version": "3.12.7"
  }
 },
 "nbformat": 4,
 "nbformat_minor": 5
}
