{
 "cells": [
  {
   "cell_type": "markdown",
   "id": "63b775c4-8611-4423-82b9-3770da9f364f",
   "metadata": {},
   "source": [
    "##nesdet list - ic ice kecmis"
   ]
  },
  {
   "cell_type": "code",
   "execution_count": 3,
   "id": "677a4b81-5615-4df5-bc04-bd837b7fb088",
   "metadata": {},
   "outputs": [],
   "source": [
    "new_list = [1,2,\"a\"]"
   ]
  },
  {
   "cell_type": "code",
   "execution_count": 7,
   "id": "c710c2e5-bba2-4930-a849-3c636127149d",
   "metadata": {},
   "outputs": [],
   "source": [
    "new_list = [1,2,\"a\",[3,\"c\"]]"
   ]
  },
  {
   "cell_type": "code",
   "execution_count": 9,
   "id": "c294ca31-719d-4552-83fd-99ba7c17d5e7",
   "metadata": {},
   "outputs": [
    {
     "data": {
      "text/plain": [
       "[1, 2, 'a', [3, 'c']]"
      ]
     },
     "execution_count": 9,
     "metadata": {},
     "output_type": "execute_result"
    }
   ],
   "source": [
    "new_list"
   ]
  },
  {
   "cell_type": "code",
   "execution_count": 11,
   "id": "f94d34cd-7b06-4dfd-83f6-c94400f172c8",
   "metadata": {},
   "outputs": [
    {
     "data": {
      "text/plain": [
       "'a'"
      ]
     },
     "execution_count": 11,
     "metadata": {},
     "output_type": "execute_result"
    }
   ],
   "source": [
    "new_list[2]"
   ]
  },
  {
   "cell_type": "code",
   "execution_count": 13,
   "id": "17e8d43e-5530-4428-9100-11c6a611ce09",
   "metadata": {},
   "outputs": [],
   "source": [
    "nested_list = new_list[3]"
   ]
  },
  {
   "cell_type": "code",
   "execution_count": 15,
   "id": "964bc521-6620-4f4c-a869-b494e888963e",
   "metadata": {},
   "outputs": [
    {
     "data": {
      "text/plain": [
       "[3, 'c']"
      ]
     },
     "execution_count": 15,
     "metadata": {},
     "output_type": "execute_result"
    }
   ],
   "source": [
    "nested_list"
   ]
  },
  {
   "cell_type": "code",
   "execution_count": 17,
   "id": "e01e0122-91ba-405e-bf38-bc72d2af5f01",
   "metadata": {},
   "outputs": [
    {
     "data": {
      "text/plain": [
       "'c'"
      ]
     },
     "execution_count": 17,
     "metadata": {},
     "output_type": "execute_result"
    }
   ],
   "source": [
    "nested_list[1]"
   ]
  },
  {
   "cell_type": "code",
   "execution_count": 19,
   "id": "0fe5291b-2f99-4192-a69c-e22a5af034c7",
   "metadata": {},
   "outputs": [
    {
     "data": {
      "text/plain": [
       "'c'"
      ]
     },
     "execution_count": 19,
     "metadata": {},
     "output_type": "execute_result"
    }
   ],
   "source": [
    "new_list[3][1]"
   ]
  },
  {
   "cell_type": "code",
   "execution_count": 21,
   "id": "a8995eb4-2e9f-4fb8-9743-083f76536284",
   "metadata": {},
   "outputs": [
    {
     "data": {
      "text/plain": [
       "[1, 2, 'a', [3, 'c']]"
      ]
     },
     "execution_count": 21,
     "metadata": {},
     "output_type": "execute_result"
    }
   ],
   "source": [
    "new_list"
   ]
  },
  {
   "cell_type": "code",
   "execution_count": 23,
   "id": "c813e185-b3bc-4c27-af60-21ce5cb0a0df",
   "metadata": {},
   "outputs": [
    {
     "data": {
      "text/plain": [
       "['a', [3, 'c']]"
      ]
     },
     "execution_count": 23,
     "metadata": {},
     "output_type": "execute_result"
    }
   ],
   "source": [
    "new_list[2:]"
   ]
  },
  {
   "cell_type": "code",
   "execution_count": 25,
   "id": "256d55ea-40f2-436f-b4ca-5830ac56f3e3",
   "metadata": {},
   "outputs": [
    {
     "data": {
      "text/plain": [
       "[1, 2]"
      ]
     },
     "execution_count": 25,
     "metadata": {},
     "output_type": "execute_result"
    }
   ],
   "source": [
    "new_list[:2]"
   ]
  },
  {
   "cell_type": "code",
   "execution_count": null,
   "id": "8ae63d46-226b-4e33-8ff8-3257a55bb357",
   "metadata": {},
   "outputs": [],
   "source": []
  }
 ],
 "metadata": {
  "kernelspec": {
   "display_name": "Python 3 (ipykernel)",
   "language": "python",
   "name": "python3"
  },
  "language_info": {
   "codemirror_mode": {
    "name": "ipython",
    "version": 3
   },
   "file_extension": ".py",
   "mimetype": "text/x-python",
   "name": "python",
   "nbconvert_exporter": "python",
   "pygments_lexer": "ipython3",
   "version": "3.12.7"
  }
 },
 "nbformat": 4,
 "nbformat_minor": 5
}
