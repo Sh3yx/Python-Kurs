{
 "cells": [
  {
   "cell_type": "code",
   "execution_count": 20,
   "id": "0c413dcf-97d0-47a4-9514-50136ca990a6",
   "metadata": {},
   "outputs": [],
   "source": [
    "my_list = [\"a\",1,\"c\"]"
   ]
  },
  {
   "cell_type": "code",
   "execution_count": 22,
   "id": "27f7c55e-e4d6-4e28-bbfd-586ca81b7e24",
   "metadata": {},
   "outputs": [],
   "source": [
    "my_list[0] = \"b\""
   ]
  },
  {
   "cell_type": "code",
   "execution_count": 24,
   "id": "5102c7ed-4eec-45b8-8ec7-6564e648513e",
   "metadata": {},
   "outputs": [
    {
     "data": {
      "text/plain": [
       "['b', 1, 'c']"
      ]
     },
     "execution_count": 24,
     "metadata": {},
     "output_type": "execute_result"
    }
   ],
   "source": [
    "my_list"
   ]
  },
  {
   "cell_type": "code",
   "execution_count": 26,
   "id": "6ca3b312-3db5-42ce-bafc-8778e106f246",
   "metadata": {},
   "outputs": [],
   "source": [
    "my_tuple = (\"a\",1,\"c\")"
   ]
  },
  {
   "cell_type": "code",
   "execution_count": 30,
   "id": "e438b9cc-1833-4a86-85f9-d2ef440ede4a",
   "metadata": {},
   "outputs": [
    {
     "data": {
      "text/plain": [
       "('a', 1, 'c')"
      ]
     },
     "execution_count": 30,
     "metadata": {},
     "output_type": "execute_result"
    }
   ],
   "source": [
    "my_tuple"
   ]
  },
  {
   "cell_type": "code",
   "execution_count": 32,
   "id": "942cb1cb-0c58-4498-9260-040a1b2e7d34",
   "metadata": {},
   "outputs": [
    {
     "data": {
      "text/plain": [
       "'a'"
      ]
     },
     "execution_count": 32,
     "metadata": {},
     "output_type": "execute_result"
    }
   ],
   "source": [
    "my_tuple[0]"
   ]
  },
  {
   "cell_type": "code",
   "execution_count": null,
   "id": "037ad3ef-fde9-44c6-82ee-19f28276a0e5",
   "metadata": {},
   "outputs": [],
   "source": [
    "#my_tuple[0] = \"b\""
   ]
  },
  {
   "cell_type": "markdown",
   "id": "6f3607b2-39de-43f5-922a-4e6fe90cc451",
   "metadata": {},
   "source": [
    "##immutable"
   ]
  },
  {
   "cell_type": "code",
   "execution_count": 39,
   "id": "b865f5d1-563e-406c-9129-8e12b6c25ff0",
   "metadata": {},
   "outputs": [],
   "source": [
    "#my_tuple[1] = \"2\""
   ]
  },
  {
   "cell_type": "code",
   "execution_count": 43,
   "id": "287ab9a4-9536-445e-9aa2-87d518ab4755",
   "metadata": {},
   "outputs": [
    {
     "data": {
      "text/plain": [
       "1"
      ]
     },
     "execution_count": 43,
     "metadata": {},
     "output_type": "execute_result"
    }
   ],
   "source": [
    "my_tuple.count(\"a\")"
   ]
  },
  {
   "cell_type": "code",
   "execution_count": 45,
   "id": "99450815-1020-4c87-b84a-5af8bdd4c5be",
   "metadata": {},
   "outputs": [],
   "source": [
    "my_tuple_2 = (1,1,1,\"a\",\"c\")"
   ]
  },
  {
   "cell_type": "code",
   "execution_count": 47,
   "id": "ca564650-edf4-4f2d-b239-8b74f4cebd9e",
   "metadata": {},
   "outputs": [
    {
     "data": {
      "text/plain": [
       "3"
      ]
     },
     "execution_count": 47,
     "metadata": {},
     "output_type": "execute_result"
    }
   ],
   "source": [
    "my_tuple_2.count(1)"
   ]
  },
  {
   "cell_type": "code",
   "execution_count": 49,
   "id": "91eddfb7-8de4-4179-87db-7270ece17ea1",
   "metadata": {},
   "outputs": [
    {
     "data": {
      "text/plain": [
       "3"
      ]
     },
     "execution_count": 49,
     "metadata": {},
     "output_type": "execute_result"
    }
   ],
   "source": [
    "my_tuple_2.index(\"a\")"
   ]
  },
  {
   "cell_type": "code",
   "execution_count": 53,
   "id": "09d73493-31b6-46f3-8e01-1606feb17feb",
   "metadata": {},
   "outputs": [
    {
     "data": {
      "text/plain": [
       "0"
      ]
     },
     "execution_count": 53,
     "metadata": {},
     "output_type": "execute_result"
    }
   ],
   "source": [
    "my_tuple_2.index(1)"
   ]
  },
  {
   "cell_type": "code",
   "execution_count": null,
   "id": "4a15150e-6f73-4845-b288-cb8aa93d4fc6",
   "metadata": {},
   "outputs": [],
   "source": []
  }
 ],
 "metadata": {
  "kernelspec": {
   "display_name": "Python 3 (ipykernel)",
   "language": "python",
   "name": "python3"
  },
  "language_info": {
   "codemirror_mode": {
    "name": "ipython",
    "version": 3
   },
   "file_extension": ".py",
   "mimetype": "text/x-python",
   "name": "python",
   "nbconvert_exporter": "python",
   "pygments_lexer": "ipython3",
   "version": "3.12.7"
  }
 },
 "nbformat": 4,
 "nbformat_minor": 5
}
