{
 "cells": [
  {
   "cell_type": "code",
   "execution_count": 7,
   "id": "aedf2ba0-dd70-4614-9e83-81bcec5b7091",
   "metadata": {},
   "outputs": [
    {
     "name": "stdout",
     "output_type": "stream",
     "text": [
      "KiberTehlukesizlik\n",
      "dersleri\n"
     ]
    }
   ],
   "source": [
    "if 3 > 2:\n",
    "    print(\"KiberTehlukesizlik\")\n",
    "    print(\"dersleri\")"
   ]
  },
  {
   "cell_type": "code",
   "execution_count": 63,
   "id": "276f5d19-2819-4bf3-8567-7e2cb3864e5e",
   "metadata": {},
   "outputs": [],
   "source": [
    "x = 3"
   ]
  },
  {
   "cell_type": "code",
   "execution_count": 65,
   "id": "2b4a5bfc-6a38-467e-aa45-a7f3d03a4c51",
   "metadata": {},
   "outputs": [],
   "source": [
    "y = 4"
   ]
  },
  {
   "cell_type": "code",
   "execution_count": 17,
   "id": "e02b2017-648f-46bf-99ec-dd3e41839653",
   "metadata": {},
   "outputs": [
    {
     "name": "stdout",
     "output_type": "stream",
     "text": [
      "x is greater\n"
     ]
    }
   ],
   "source": [
    "if x > y:\n",
    "    print(\"x is greater\")"
   ]
  },
  {
   "cell_type": "code",
   "execution_count": 67,
   "id": "61bf2038-0c51-41e0-ada4-d14d601cce2f",
   "metadata": {},
   "outputs": [
    {
     "name": "stdout",
     "output_type": "stream",
     "text": [
      "y is greater\n"
     ]
    }
   ],
   "source": [
    "if x > y:\n",
    "    print(\"x is greater\")\n",
    "elif x == y:\n",
    "    print(\"x is y\")\n",
    "else:\n",
    "    print(\"y is greater\")"
   ]
  },
  {
   "cell_type": "code",
   "execution_count": 3,
   "id": "752699a0-dfa4-4fb8-873f-c877ecd2d1cd",
   "metadata": {},
   "outputs": [
    {
     "name": "stdin",
     "output_type": "stream",
     "text": [
      "superhero:  Batman\n"
     ]
    }
   ],
   "source": [
    "my_superhero = input(\"superhero: \")"
   ]
  },
  {
   "cell_type": "code",
   "execution_count": 41,
   "id": "2c64b279-59b3-44e4-bf18-bfff62d8d346",
   "metadata": {},
   "outputs": [
    {
     "name": "stdout",
     "output_type": "stream",
     "text": [
      "Batmaaaaan\n"
     ]
    }
   ],
   "source": [
    "if my_superhero == \"Batman\":\n",
    "    print(\"Batmaaaaan\")\n",
    "elif my_superhero == \"Superman\":\n",
    "    print(\"Supermaaaan\")\n",
    "elif my_superhero == \"Ironman\":\n",
    "    print(\"Ironmaaan\")\n",
    "else:\n",
    "    print(\":(\")"
   ]
  },
  {
   "cell_type": "code",
   "execution_count": 1,
   "id": "77c52797-2dff-4335-8b8d-5bb58bf5a841",
   "metadata": {},
   "outputs": [],
   "source": [
    "a = 10"
   ]
  },
  {
   "cell_type": "code",
   "execution_count": 3,
   "id": "e11a660e-ee43-4c7a-a6ac-890042a20922",
   "metadata": {},
   "outputs": [],
   "source": [
    "b = 15"
   ]
  },
  {
   "cell_type": "code",
   "execution_count": 5,
   "id": "01138f35-32bb-4bcf-b19f-544a088bcba1",
   "metadata": {},
   "outputs": [],
   "source": [
    "c = 20"
   ]
  },
  {
   "cell_type": "code",
   "execution_count": 13,
   "id": "19295d98-d137-4869-af1c-f6da701c8034",
   "metadata": {},
   "outputs": [
    {
     "name": "stdout",
     "output_type": "stream",
     "text": [
      "superman\n"
     ]
    }
   ],
   "source": [
    "if a > b or b < c:\n",
    "    print(\"superman\")\n",
    "elif a < b and b > c:\n",
    "    print(\"batman\")\n",
    "else:\n",
    "    print(\"aquman\")"
   ]
  },
  {
   "cell_type": "code",
   "execution_count": 19,
   "id": "6d22a0f5-32f1-462b-a021-110c36d10721",
   "metadata": {},
   "outputs": [],
   "source": [
    "isDead = False"
   ]
  },
  {
   "cell_type": "code",
   "execution_count": 29,
   "id": "bc010be3-a0dd-4e60-8d95-25ac20bc8202",
   "metadata": {},
   "outputs": [
    {
     "name": "stdout",
     "output_type": "stream",
     "text": [
      "character is not dead\n"
     ]
    }
   ],
   "source": [
    "if isDead == True:\n",
    "    print(\"character is not dead\")\n",
    "else:\n",
    "    print(\"character is dead\")"
   ]
  },
  {
   "cell_type": "code",
   "execution_count": 31,
   "id": "048ffbb5-54bc-414a-9abc-403547401e0b",
   "metadata": {},
   "outputs": [
    {
     "name": "stdout",
     "output_type": "stream",
     "text": [
      "character is dead\n"
     ]
    }
   ],
   "source": [
    "if isDead:\n",
    "    print(\"character is dead\")\n",
    "else:\n",
    "    print(\"character is not dead\")"
   ]
  },
  {
   "cell_type": "code",
   "execution_count": 33,
   "id": "5e5d88bc-6d44-40bd-aa9c-35348e3e609d",
   "metadata": {},
   "outputs": [],
   "source": [
    "if not isDead:\n",
    "    print(\"character is not dead\")"
   ]
  },
  {
   "cell_type": "code",
   "execution_count": 35,
   "id": "03e7d284-b39b-46ce-90e5-be0a1fda8039",
   "metadata": {},
   "outputs": [],
   "source": [
    "my_string = \"Hello World\""
   ]
  },
  {
   "cell_type": "code",
   "execution_count": 37,
   "id": "639bbd00-8a6a-4b72-9856-40aa93c5404a",
   "metadata": {},
   "outputs": [
    {
     "name": "stdout",
     "output_type": "stream",
     "text": [
      "equal\n"
     ]
    }
   ],
   "source": [
    "if my_string == \"Hello World\":\n",
    "    print(\"equal\")"
   ]
  },
  {
   "cell_type": "code",
   "execution_count": 43,
   "id": "d2e120ae-952d-4a16-8675-a7abfd9e888c",
   "metadata": {},
   "outputs": [
    {
     "name": "stdout",
     "output_type": "stream",
     "text": [
      "true\n"
     ]
    }
   ],
   "source": [
    "if \"Hello\" in my_string:\n",
    "    print(\"true\")\n",
    "else:\n",
    "    print(\"equal\")"
   ]
  },
  {
   "cell_type": "code",
   "execution_count": 45,
   "id": "aa175b95-a431-4a36-816f-0d27036b6db2",
   "metadata": {},
   "outputs": [],
   "source": [
    "my_list = [1,2,3,4,5]"
   ]
  },
  {
   "cell_type": "code",
   "execution_count": 47,
   "id": "e763f28a-6114-4213-8ae4-13ab7083dc24",
   "metadata": {},
   "outputs": [
    {
     "name": "stdout",
     "output_type": "stream",
     "text": [
      "true\n"
     ]
    }
   ],
   "source": [
    "if 2 in my_list:\n",
    "    print(\"true\")\n",
    "else:\n",
    "    print(\"false\")"
   ]
  },
  {
   "cell_type": "code",
   "execution_count": 49,
   "id": "f8121844-659e-4bc5-bb14-1d0cc6ae2ac2",
   "metadata": {},
   "outputs": [],
   "source": [
    "my_dictionary = {\"k1\": 100, \"k1\":200, \"k3\":300}"
   ]
  },
  {
   "cell_type": "code",
   "execution_count": 51,
   "id": "b47125ae-eb1b-49c8-a74b-0ec8d20e6ddf",
   "metadata": {},
   "outputs": [
    {
     "name": "stdout",
     "output_type": "stream",
     "text": [
      "false\n"
     ]
    }
   ],
   "source": [
    "if 100 in my_dictionary.keys():\n",
    "    print(\"true\")\n",
    "else:\n",
    "    print(\"false\")"
   ]
  },
  {
   "cell_type": "code",
   "execution_count": null,
   "id": "e1c79bcf-d7b7-4994-a970-fe6ccb9397b1",
   "metadata": {},
   "outputs": [],
   "source": []
  }
 ],
 "metadata": {
  "kernelspec": {
   "display_name": "Python 3 (ipykernel)",
   "language": "python",
   "name": "python3"
  },
  "language_info": {
   "codemirror_mode": {
    "name": "ipython",
    "version": 3
   },
   "file_extension": ".py",
   "mimetype": "text/x-python",
   "name": "python",
   "nbconvert_exporter": "python",
   "pygments_lexer": "ipython3",
   "version": "3.12.7"
  }
 },
 "nbformat": 4,
 "nbformat_minor": 5
}
