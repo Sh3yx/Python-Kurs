{
 "cells": [
  {
   "cell_type": "code",
   "execution_count": 53,
   "id": "1ceded3c-89c7-4cbf-9173-684d58e234aa",
   "metadata": {},
   "outputs": [],
   "source": [
    "##Aşağıdakı sətirdə (stringdə) 5-ci hərfi my_letter adlı dəyişənə mənimsədin."
   ]
  },
  {
   "cell_type": "code",
   "execution_count": 54,
   "id": "3e0d7a43-19a8-4d25-aae0-9d54da88daeb",
   "metadata": {},
   "outputs": [],
   "source": [
    "my_string = \"James Hetfield\""
   ]
  },
  {
   "cell_type": "code",
   "execution_count": 57,
   "id": "3f9bc7c7-4d33-4382-961e-127f826249b7",
   "metadata": {},
   "outputs": [],
   "source": [
    "##Aşağıdakı sətirdə 5-ci və 8-ci simvollar arasındakı bütün hərfləri (hər ikisi daxil olmaqla) çap edin."
   ]
  },
  {
   "cell_type": "code",
   "execution_count": 58,
   "id": "d2121eb6-244a-43ac-8146-60d10aa800b6",
   "metadata": {},
   "outputs": [],
   "source": [
    "my_new_string = \"QuentinTarantino\""
   ]
  },
  {
   "cell_type": "code",
   "execution_count": 60,
   "id": "c8a760eb-73e6-4256-8aa1-2d7e5ea8a824",
   "metadata": {},
   "outputs": [],
   "source": [
    "##Aşağıdakı sətiri kodla tərsinə yazın."
   ]
  },
  {
   "cell_type": "code",
   "execution_count": 61,
   "id": "fcd54e75-014e-460e-a61b-e696df507468",
   "metadata": {},
   "outputs": [],
   "source": [
    "my_last_string = \"Azadliqprospekti140bunvaninacatdir\""
   ]
  },
  {
   "cell_type": "markdown",
   "id": "4147e843-04ad-4307-9015-c41f19b612a6",
   "metadata": {},
   "source": [
    "Integer & Float"
   ]
  },
  {
   "cell_type": "code",
   "execution_count": 64,
   "id": "c6787f31-3696-4eee-af95-982bab172110",
   "metadata": {},
   "outputs": [],
   "source": [
    "##Aşağıdakı əməliyyatın nəticəsi hansı verilənlər tipi olacaq?"
   ]
  },
  {
   "cell_type": "markdown",
   "id": "06fa2e0f-1742-4260-8f2d-5dc5898c87ef",
   "metadata": {},
   "source": [
    "3 + 10.2 + 50"
   ]
  },
  {
   "cell_type": "code",
   "execution_count": 67,
   "id": "f93fb3f1-6c58-480a-93bd-3ed8107c65c9",
   "metadata": {},
   "outputs": [],
   "source": [
    "##Aşağıdakı əməliyyatın nəticəsi neçədir?"
   ]
  },
  {
   "cell_type": "markdown",
   "id": "67e04084-342b-4665-8819-fb2f6a653200",
   "metadata": {},
   "source": [
    "5 + 8 * 12"
   ]
  },
  {
   "cell_type": "markdown",
   "id": "e3ab247e-787b-4392-b7db-4587ed748f89",
   "metadata": {},
   "source": [
    "List & Dictionary & Set"
   ]
  },
  {
   "cell_type": "code",
   "execution_count": 108,
   "id": "204ff3f5-c755-4f5a-a355-717b815914af",
   "metadata": {},
   "outputs": [],
   "source": [
    "##Bu siyahını 3 fərqli yolla yaradın: [1, 2, \"a\"]"
   ]
  },
  {
   "cell_type": "code",
   "execution_count": null,
   "id": "2a4a9cd4-9d75-4ee4-9e69-c57f542b6f65",
   "metadata": {},
   "outputs": [],
   "source": []
  },
  {
   "cell_type": "code",
   "execution_count": 81,
   "id": "c21b7fb2-bfae-44d3-becb-ac8ab90b00b6",
   "metadata": {},
   "outputs": [],
   "source": [
    "## Aşağıdakı \"a\" simvolunu tək sətrdə əldə edin"
   ]
  },
  {
   "cell_type": "code",
   "execution_count": 82,
   "id": "823c13e7-f5dd-4906-990f-2d05668ac047",
   "metadata": {},
   "outputs": [],
   "source": [
    "my_list = [1,4,[2,3,\"a\"]]"
   ]
  },
  {
   "cell_type": "code",
   "execution_count": 84,
   "id": "f73550c9-5536-4588-bc61-738df69e36c2",
   "metadata": {},
   "outputs": [],
   "source": [
    "## Aşağıdakı \"b\" simvolunu tək sətrdə əldə edin:"
   ]
  },
  {
   "cell_type": "code",
   "execution_count": 85,
   "id": "ff3a5c53-b937-44e2-ab1a-34f2d6ecd1b2",
   "metadata": {},
   "outputs": [],
   "source": [
    "my_dictionary = {\"k1\":2, \"kk\":[4,{\"kkkk\":\"b\"}]}"
   ]
  },
  {
   "cell_type": "code",
   "execution_count": null,
   "id": "e791bdbc-306e-4b7d-9753-644bb48b99d8",
   "metadata": {},
   "outputs": [],
   "source": [
    "## Aşağıdakı siyahı set-ə çevrildikdə hansı dəyərlər içəridə qalacaq?"
   ]
  },
  {
   "cell_type": "code",
   "execution_count": 94,
   "id": "889c6d9e-e1fc-42ae-af46-e8387bf38754",
   "metadata": {},
   "outputs": [],
   "source": [
    "my_listt = [11,12,22,33,11,22,45,32,21,22,33,45]"
   ]
  },
  {
   "cell_type": "markdown",
   "id": "60174010-f2a1-4952-bae9-4f3e90652ee1",
   "metadata": {},
   "source": [
    "Boolean"
   ]
  },
  {
   "cell_type": "code",
   "execution_count": null,
   "id": "5fb632eb-dba2-401f-ae48-12a34fff47f8",
   "metadata": {},
   "outputs": [],
   "source": [
    "## Aşağıdakı ifadənin nəticəsi nə olacaq?"
   ]
  },
  {
   "cell_type": "code",
   "execution_count": 102,
   "id": "d5aaf6d4-6a9f-4cdf-8748-b7f6c4b7b9a4",
   "metadata": {},
   "outputs": [],
   "source": [
    "a = 40 * (4 - 2)"
   ]
  },
  {
   "cell_type": "code",
   "execution_count": 104,
   "id": "ed473428-bb5e-4423-83f8-da69b7a2b8d8",
   "metadata": {},
   "outputs": [],
   "source": [
    "b = 80 - 2 * -5"
   ]
  },
  {
   "cell_type": "markdown",
   "id": "8ce70b3e-0868-4350-83d6-827e934421c4",
   "metadata": {},
   "source": [
    "a > b"
   ]
  },
  {
   "cell_type": "code",
   "execution_count": null,
   "id": "1b8128e5-0f1b-49f1-8045-83caf2828abf",
   "metadata": {},
   "outputs": [],
   "source": []
  },
  {
   "cell_type": "code",
   "execution_count": null,
   "id": "b5aebbc1-9b61-419f-a76b-341975282f20",
   "metadata": {},
   "outputs": [],
   "source": []
  }
 ],
 "metadata": {
  "kernelspec": {
   "display_name": "Python 3 (ipykernel)",
   "language": "python",
   "name": "python3"
  },
  "language_info": {
   "codemirror_mode": {
    "name": "ipython",
    "version": 3
   },
   "file_extension": ".py",
   "mimetype": "text/x-python",
   "name": "python",
   "nbconvert_exporter": "python",
   "pygments_lexer": "ipython3",
   "version": "3.12.7"
  }
 },
 "nbformat": 4,
 "nbformat_minor": 5
}
